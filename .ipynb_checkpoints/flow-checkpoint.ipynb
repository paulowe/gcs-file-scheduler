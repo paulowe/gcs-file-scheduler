{
 "cells": [
  {
   "cell_type": "code",
   "execution_count": null,
   "id": "90cb09e2-5283-4077-8f1e-b378ae699d3b",
   "metadata": {},
   "outputs": [],
   "source": [
    "!pip install -r requirements.txt"
   ]
  },
  {
   "cell_type": "code",
   "execution_count": 20,
   "id": "d570ba0b-24d8-40a0-a56d-a077d953f2b3",
   "metadata": {},
   "outputs": [],
   "source": [
    "import argparse\n",
    "import json\n",
    "\n",
    "import googleapiclient.discovery\n",
    "\n",
    "\n",
    "bucket = \"dataprep-schemas-tables\"\n",
    "\n",
    "def create_service():\n",
    "    \"\"\"Creates the service object for calling the Cloud Storage API.\"\"\"\n",
    "    # Construct the service object for interacting with the Cloud Storage API -\n",
    "    # the 'storage' service, at version 'v1'.\n",
    "    # You can browse other available api services and versions here:\n",
    "    #     https://developers.google.com/api-client-library/python/apis/\n",
    "    return googleapiclient.discovery.build('storage', 'v1')\n",
    "\n",
    "\n",
    "def get_bucket_metadata(bucket):\n",
    "    \"\"\"Retrieves metadata about the given bucket.\"\"\"\n",
    "    service = create_service()\n",
    "\n",
    "    # Make a request to buckets.get to retrieve a list of objects in the\n",
    "    # specified bucket.\n",
    "    req = service.buckets().get(bucket=bucket)\n",
    "    return req.execute()\n",
    "\n",
    "\n",
    "def list_bucket(bucket):\n",
    "    \"\"\"Returns a list of metadata of the objects within the given bucket.\"\"\"\n",
    "    service = create_service()\n",
    "\n",
    "    # Create a request to objects.list to retrieve a list of objects.\n",
    "    fields_to_return = \\\n",
    "        'nextPageToken,items(name,size,contentType,metadata(my-key))'\n",
    "    req = service.objects().list(bucket=bucket, fields=fields_to_return)\n",
    "\n",
    "    all_objects = []\n",
    "    # If you have too many items to list in one request, list_next() will\n",
    "    # automatically handle paging with the pageToken.\n",
    "    while req:\n",
    "        resp = req.execute()\n",
    "        all_objects.extend(resp.get('items', []))\n",
    "        req = service.objects().list_next(req, resp)\n",
    "    return all_objects\n",
    "\n",
    "\n",
    "def main(bucket):\n",
    "    #print(json.dumps(get_bucket_metadata(bucket), indent=2))\n",
    "    list_of_objects = json.dumps(list_bucket(bucket))\n",
    "    #print(list_of_objects)\n",
    "    return list_of_objects\n"
   ]
  },
  {
   "cell_type": "code",
   "execution_count": 22,
   "id": "9bb59ff9-a088-40bc-9ec1-aa7a15042d7e",
   "metadata": {},
   "outputs": [
    {
     "data": {
      "text/plain": [
       "'\\n'"
      ]
     },
     "execution_count": 22,
     "metadata": {},
     "output_type": "execute_result"
    }
   ],
   "source": [
    "list_of_objs= main(bucket)\n",
    "list_of_objs[1]"
   ]
  },
  {
   "cell_type": "code",
   "execution_count": null,
   "id": "5db477eb-918e-4ab2-8853-728c39051ada",
   "metadata": {},
   "outputs": [],
   "source": []
  }
 ],
 "metadata": {
  "kernelspec": {
   "display_name": "Python 3",
   "language": "python",
   "name": "python3"
  },
  "language_info": {
   "codemirror_mode": {
    "name": "ipython",
    "version": 3
   },
   "file_extension": ".py",
   "mimetype": "text/x-python",
   "name": "python",
   "nbconvert_exporter": "python",
   "pygments_lexer": "ipython3",
   "version": "3.8.8"
  }
 },
 "nbformat": 4,
 "nbformat_minor": 5
}
