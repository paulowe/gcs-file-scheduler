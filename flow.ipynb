{
 "cells": [
  {
   "cell_type": "code",
   "execution_count": null,
   "id": "90cb09e2-5283-4077-8f1e-b378ae699d3b",
   "metadata": {},
   "outputs": [],
   "source": [
    "!pip install -r requirements.txt"
   ]
  },
  {
   "cell_type": "code",
   "execution_count": 23,
   "id": "d570ba0b-24d8-40a0-a56d-a077d953f2b3",
   "metadata": {},
   "outputs": [],
   "source": [
    "import argparse\n",
    "import json\n",
    "\n",
    "import googleapiclient.discovery\n",
    "\n",
    "\n",
    "bucket = \"dataprep-schemas-tables\"\n",
    "\n",
    "def create_service():\n",
    "    \"\"\"Creates the service object for calling the Cloud Storage API.\"\"\"\n",
    "    # Construct the service object for interacting with the Cloud Storage API -\n",
    "    # the 'storage' service, at version 'v1'.\n",
    "    # You can browse other available api services and versions here:\n",
    "    #     https://developers.google.com/api-client-library/python/apis/\n",
    "    return googleapiclient.discovery.build('storage', 'v1')\n",
    "\n",
    "\n",
    "def get_bucket_metadata(bucket):\n",
    "    \"\"\"Retrieves metadata about the given bucket.\"\"\"\n",
    "    service = create_service()\n",
    "\n",
    "    # Make a request to buckets.get to retrieve a list of objects in the\n",
    "    # specified bucket.\n",
    "    req = service.buckets().get(bucket=bucket)\n",
    "    return req.execute()\n",
    "\n",
    "\n",
    "def list_bucket(bucket):\n",
    "    \"\"\"Returns a list of metadata of the objects within the given bucket.\"\"\"\n",
    "    service = create_service()\n",
    "\n",
    "    # Create a request to objects.list to retrieve a list of objects.\n",
    "    fields_to_return = \\\n",
    "        'nextPageToken,items(name,size,contentType,metadata(my-key))'\n",
    "    req = service.objects().list(bucket=bucket, fields=fields_to_return)\n",
    "\n",
    "    all_objects = []\n",
    "    # If you have too many items to list in one request, list_next() will\n",
    "    # automatically handle paging with the pageToken.\n",
    "    while req:\n",
    "        resp = req.execute()\n",
    "        all_objects.extend(resp.get('items', []))\n",
    "        req = service.objects().list_next(req, resp)\n",
    "    return all_objects\n",
    "\n",
    "\n",
    "def main(bucket):\n",
    "    #print(json.dumps(get_bucket_metadata(bucket), indent=2))\n",
    "    list_of_objects = json.dumps(list_bucket(bucket))\n",
    "    print(list_of_objects)\n",
    "    return list_of_objects\n"
   ]
  },
  {
   "cell_type": "code",
   "execution_count": 25,
   "id": "9bb59ff9-a088-40bc-9ec1-aa7a15042d7e",
   "metadata": {},
   "outputs": [
    {
     "data": {
      "text/plain": [
       "'[{\"name\": \" neto_bor_recipe/\", \"contentType\": \"text/plain\", \"size\": \"0\"}, {\"name\": \" neto_bor_recipe/cad-gcs.neto_bor_recipe.2.csv\", \"size\": \"1616\"}, {\"name\": \" neto_bor_recipe/cad-gcs.neto_bor_recipe.csv\", \"size\": \"1616\"}, {\"name\": \" neto_bor_recipe/cad-us.neto_bor_recipe.csv\", \"size\": \"1616\"}, {\"name\": \" neto_loan_dly/\", \"contentType\": \"text/plain\", \"size\": \"0\"}, {\"name\": \" neto_loan_dly/neto_loan_dly.csv\", \"size\": \"1191\"}, {\"name\": \" neto_loan_dly/neto_loan_dly_1.csv\", \"size\": \"1191\"}, {\"name\": \" usrlo_scd_dly/\", \"contentType\": \"text/plain\", \"size\": \"0\"}, {\"name\": \" usrlo_scd_dly/usrlo_scd_dly.csv\", \"size\": \"3339\"}, {\"name\": \" xim_d_dly/\", \"contentType\": \"text/plain\", \"size\": \"0\"}, {\"name\": \" xim_d_dly/xim_d_dly.csv\", \"size\": \"2332\"}, {\"name\": \" xrm_cust_acct_d_dly/\", \"contentType\": \"text/plain\", \"size\": \"0\"}, {\"name\": \" xrm_cust_acct_d_dly/xrm_cust_acct_d_dly.csv\", \"size\": \"2651\"}, {\"name\": \" xrm_cust_d_dly/\", \"contentType\": \"text/plain\", \"size\": \"0\"}, {\"name\": \" xrm_cust_d_dly/xrm_cust_d_dly.csv\", \"size\": \"5361\"}, {\"name\": \" xrm_ph_d_dly/\", \"contentType\": \"text/plain\", \"size\": \"0\"}, {\"name\": \" xrm_ph_d_dly/xrm_ph_d_dly.csv\", \"size\": \"1422\"}, {\"name\": \" xst_d_dly/\", \"contentType\": \"text/plain\", \"size\": \"0\"}, {\"name\": \" xst_d_dly/xst_d_dly.csv\", \"size\": \"2955\"}, {\"name\": \".data_prep_temp_102381f2-20f6-4403-b04e-43fc1d8cebb1/\", \"size\": \"0\"}, {\"name\": \".data_prep_temp_102381f2-20f6-4403-b04e-43fc1d8cebb1/_CDF_SCRIPT_11966261.cdf\", \"contentType\": \"application/octet-stream\", \"size\": \"8456\"}, {\"name\": \".data_prep_temp_427de3f2-ea82-4d5d-bd12-99cd428fbbca/\", \"size\": \"0\"}, {\"name\": \".data_prep_temp_427de3f2-ea82-4d5d-bd12-99cd428fbbca/_CDF_SCRIPT_11966119.cdf\", \"contentType\": \"application/octet-stream\", \"size\": \"8424\"}, {\"name\": \".data_prep_temp_bd4d0859-5290-40fd-96c0-8a5513b54437/\", \"size\": \"0\"}, {\"name\": \".data_prep_temp_bd4d0859-5290-40fd-96c0-8a5513b54437/_CDF_SCRIPT_11966117.cdf\", \"contentType\": \"application/octet-stream\", \"size\": \"8400\"}, {\"name\": \".data_prep_temp_fef3e4c3-ac2e-4fb7-b41a-191f426aa703/\", \"size\": \"0\"}, {\"name\": \".data_prep_temp_fef3e4c3-ac2e-4fb7-b41a-191f426aa703/_CDF_SCRIPT_11966450.cdf\", \"contentType\": \"application/octet-stream\", \"size\": \"8416\"}]'"
      ]
     },
     "execution_count": 25,
     "metadata": {},
     "output_type": "execute_result"
    }
   ],
   "source": [
    "main(bucket)"
   ]
  },
  {
   "cell_type": "code",
   "execution_count": null,
   "id": "5db477eb-918e-4ab2-8853-728c39051ada",
   "metadata": {},
   "outputs": [],
   "source": []
  }
 ],
 "metadata": {
  "kernelspec": {
   "display_name": "Python 3",
   "language": "python",
   "name": "python3"
  },
  "language_info": {
   "codemirror_mode": {
    "name": "ipython",
    "version": 3
   },
   "file_extension": ".py",
   "mimetype": "text/x-python",
   "name": "python",
   "nbconvert_exporter": "python",
   "pygments_lexer": "ipython3",
   "version": "3.8.8"
  }
 },
 "nbformat": 4,
 "nbformat_minor": 5
}
